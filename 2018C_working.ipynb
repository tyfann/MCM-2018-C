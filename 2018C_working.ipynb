{
 "cells": [
  {
   "cell_type": "code",
   "execution_count": 1,
   "metadata": {},
   "outputs": [],
   "source": [
    "import pandas as pd\n",
    "import os\n",
    "import numpy as np\n",
    "import matplotlib.pyplot as plt\n",
    "import seaborn as sns"
   ]
  },
  {
   "cell_type": "markdown",
   "metadata": {},
   "source": [
    "## Read .xlsx file using pandas"
   ]
  },
  {
   "cell_type": "code",
   "execution_count": 2,
   "metadata": {},
   "outputs": [],
   "source": [
    "data_path = os.path.join(os.getcwd(), 'datasets', 'ProblemCData.xlsx')\n",
    "seseds = pd.read_excel(data_path, sheet_name='seseds')\n",
    "msncodes = pd.read_excel(data_path, sheet_name='msncodes')"
   ]
  },
  {
   "cell_type": "code",
   "execution_count": 3,
   "metadata": {},
   "outputs": [
    {
     "data": {
      "text/html": [
       "<div>\n",
       "<style scoped>\n",
       "    .dataframe tbody tr th:only-of-type {\n",
       "        vertical-align: middle;\n",
       "    }\n",
       "\n",
       "    .dataframe tbody tr th {\n",
       "        vertical-align: top;\n",
       "    }\n",
       "\n",
       "    .dataframe thead th {\n",
       "        text-align: right;\n",
       "    }\n",
       "</style>\n",
       "<table border=\"1\" class=\"dataframe\">\n",
       "  <thead>\n",
       "    <tr style=\"text-align: right;\">\n",
       "      <th></th>\n",
       "      <th>MSN</th>\n",
       "      <th>StateCode</th>\n",
       "      <th>Year</th>\n",
       "      <th>Data</th>\n",
       "    </tr>\n",
       "  </thead>\n",
       "  <tbody>\n",
       "    <tr>\n",
       "      <th>0</th>\n",
       "      <td>ABICB</td>\n",
       "      <td>AZ</td>\n",
       "      <td>1960</td>\n",
       "      <td>0.0</td>\n",
       "    </tr>\n",
       "    <tr>\n",
       "      <th>1</th>\n",
       "      <td>ABICB</td>\n",
       "      <td>AZ</td>\n",
       "      <td>1961</td>\n",
       "      <td>0.0</td>\n",
       "    </tr>\n",
       "    <tr>\n",
       "      <th>2</th>\n",
       "      <td>ABICB</td>\n",
       "      <td>AZ</td>\n",
       "      <td>1962</td>\n",
       "      <td>0.0</td>\n",
       "    </tr>\n",
       "    <tr>\n",
       "      <th>3</th>\n",
       "      <td>ABICB</td>\n",
       "      <td>AZ</td>\n",
       "      <td>1963</td>\n",
       "      <td>0.0</td>\n",
       "    </tr>\n",
       "    <tr>\n",
       "      <th>4</th>\n",
       "      <td>ABICB</td>\n",
       "      <td>AZ</td>\n",
       "      <td>1964</td>\n",
       "      <td>0.0</td>\n",
       "    </tr>\n",
       "  </tbody>\n",
       "</table>\n",
       "</div>"
      ],
      "text/plain": [
       "     MSN StateCode  Year  Data\n",
       "0  ABICB        AZ  1960   0.0\n",
       "1  ABICB        AZ  1961   0.0\n",
       "2  ABICB        AZ  1962   0.0\n",
       "3  ABICB        AZ  1963   0.0\n",
       "4  ABICB        AZ  1964   0.0"
      ]
     },
     "execution_count": 3,
     "metadata": {},
     "output_type": "execute_result"
    }
   ],
   "source": [
    "seseds.head(5)"
   ]
  },
  {
   "cell_type": "code",
   "execution_count": 5,
   "metadata": {},
   "outputs": [
    {
     "data": {
      "text/plain": [
       "MSN          0\n",
       "StateCode    0\n",
       "Year         0\n",
       "Data         0\n",
       "dtype: int64"
      ]
     },
     "execution_count": 5,
     "metadata": {},
     "output_type": "execute_result"
    }
   ],
   "source": [
    "seseds.isnull().sum()"
   ]
  },
  {
   "cell_type": "code",
   "execution_count": 4,
   "metadata": {},
   "outputs": [
    {
     "data": {
      "text/html": [
       "<div>\n",
       "<style scoped>\n",
       "    .dataframe tbody tr th:only-of-type {\n",
       "        vertical-align: middle;\n",
       "    }\n",
       "\n",
       "    .dataframe tbody tr th {\n",
       "        vertical-align: top;\n",
       "    }\n",
       "\n",
       "    .dataframe thead th {\n",
       "        text-align: right;\n",
       "    }\n",
       "</style>\n",
       "<table border=\"1\" class=\"dataframe\">\n",
       "  <thead>\n",
       "    <tr style=\"text-align: right;\">\n",
       "      <th></th>\n",
       "      <th>Year</th>\n",
       "      <th>Data</th>\n",
       "    </tr>\n",
       "  </thead>\n",
       "  <tbody>\n",
       "    <tr>\n",
       "      <th>count</th>\n",
       "      <td>105744.000000</td>\n",
       "      <td>1.057440e+05</td>\n",
       "    </tr>\n",
       "    <tr>\n",
       "      <th>mean</th>\n",
       "      <td>1986.529846</td>\n",
       "      <td>1.480125e+05</td>\n",
       "    </tr>\n",
       "    <tr>\n",
       "      <th>std</th>\n",
       "      <td>13.576094</td>\n",
       "      <td>7.385164e+05</td>\n",
       "    </tr>\n",
       "    <tr>\n",
       "      <th>min</th>\n",
       "      <td>1960.000000</td>\n",
       "      <td>-2.991821e+05</td>\n",
       "    </tr>\n",
       "    <tr>\n",
       "      <th>25%</th>\n",
       "      <td>1975.000000</td>\n",
       "      <td>2.400450e+00</td>\n",
       "    </tr>\n",
       "    <tr>\n",
       "      <th>50%</th>\n",
       "      <td>1987.000000</td>\n",
       "      <td>2.113614e+02</td>\n",
       "    </tr>\n",
       "    <tr>\n",
       "      <th>75%</th>\n",
       "      <td>1998.000000</td>\n",
       "      <td>1.602248e+04</td>\n",
       "    </tr>\n",
       "    <tr>\n",
       "      <th>max</th>\n",
       "      <td>2009.000000</td>\n",
       "      <td>1.740157e+07</td>\n",
       "    </tr>\n",
       "  </tbody>\n",
       "</table>\n",
       "</div>"
      ],
      "text/plain": [
       "                Year          Data\n",
       "count  105744.000000  1.057440e+05\n",
       "mean     1986.529846  1.480125e+05\n",
       "std        13.576094  7.385164e+05\n",
       "min      1960.000000 -2.991821e+05\n",
       "25%      1975.000000  2.400450e+00\n",
       "50%      1987.000000  2.113614e+02\n",
       "75%      1998.000000  1.602248e+04\n",
       "max      2009.000000  1.740157e+07"
      ]
     },
     "execution_count": 4,
     "metadata": {},
     "output_type": "execute_result"
    }
   ],
   "source": [
    "seseds.describe()"
   ]
  },
  {
   "cell_type": "code",
   "execution_count": 5,
   "metadata": {
    "collapsed": true
   },
   "outputs": [
    {
     "data": {
      "text/html": [
       "<div>\n",
       "<style scoped>\n",
       "    .dataframe tbody tr th:only-of-type {\n",
       "        vertical-align: middle;\n",
       "    }\n",
       "\n",
       "    .dataframe tbody tr th {\n",
       "        vertical-align: top;\n",
       "    }\n",
       "\n",
       "    .dataframe thead th {\n",
       "        text-align: right;\n",
       "    }\n",
       "</style>\n",
       "<table border=\"1\" class=\"dataframe\">\n",
       "  <thead>\n",
       "    <tr style=\"text-align: right;\">\n",
       "      <th></th>\n",
       "      <th>MSN</th>\n",
       "      <th>Description</th>\n",
       "      <th>Unit</th>\n",
       "    </tr>\n",
       "  </thead>\n",
       "  <tbody>\n",
       "    <tr>\n",
       "      <th>0</th>\n",
       "      <td>ABICB</td>\n",
       "      <td>Aviation gasoline blending components consumed...</td>\n",
       "      <td>Billion Btu</td>\n",
       "    </tr>\n",
       "    <tr>\n",
       "      <th>1</th>\n",
       "      <td>ABICP</td>\n",
       "      <td>Aviation gasoline blending components consumed...</td>\n",
       "      <td>Thousand barrels</td>\n",
       "    </tr>\n",
       "    <tr>\n",
       "      <th>2</th>\n",
       "      <td>ARICB</td>\n",
       "      <td>Asphalt and road oil consumed by the industria...</td>\n",
       "      <td>Billion Btu</td>\n",
       "    </tr>\n",
       "    <tr>\n",
       "      <th>3</th>\n",
       "      <td>ARICD</td>\n",
       "      <td>Asphalt and road oil price in the industrial s...</td>\n",
       "      <td>Dollars per million Btu</td>\n",
       "    </tr>\n",
       "    <tr>\n",
       "      <th>4</th>\n",
       "      <td>ARICP</td>\n",
       "      <td>Asphalt and road oil consumed by the industria...</td>\n",
       "      <td>Thousand barrels</td>\n",
       "    </tr>\n",
       "    <tr>\n",
       "      <th>5</th>\n",
       "      <td>ARICV</td>\n",
       "      <td>Asphalt and road oil expenditures in the indus...</td>\n",
       "      <td>Million dollars</td>\n",
       "    </tr>\n",
       "    <tr>\n",
       "      <th>6</th>\n",
       "      <td>ARTCB</td>\n",
       "      <td>Asphalt and road oil total consumption.</td>\n",
       "      <td>Billion Btu</td>\n",
       "    </tr>\n",
       "    <tr>\n",
       "      <th>7</th>\n",
       "      <td>ARTCD</td>\n",
       "      <td>Asphalt and road oil average price, all sectors.</td>\n",
       "      <td>Dollars per million Btu</td>\n",
       "    </tr>\n",
       "    <tr>\n",
       "      <th>8</th>\n",
       "      <td>ARTCP</td>\n",
       "      <td>Asphalt and road oil total consumption.</td>\n",
       "      <td>Thousand barrels</td>\n",
       "    </tr>\n",
       "    <tr>\n",
       "      <th>9</th>\n",
       "      <td>ARTCV</td>\n",
       "      <td>Asphalt and road oil total expenditures.</td>\n",
       "      <td>Million dollars</td>\n",
       "    </tr>\n",
       "  </tbody>\n",
       "</table>\n",
       "</div>"
      ],
      "text/plain": [
       "     MSN                                        Description  \\\n",
       "0  ABICB  Aviation gasoline blending components consumed...   \n",
       "1  ABICP  Aviation gasoline blending components consumed...   \n",
       "2  ARICB  Asphalt and road oil consumed by the industria...   \n",
       "3  ARICD  Asphalt and road oil price in the industrial s...   \n",
       "4  ARICP  Asphalt and road oil consumed by the industria...   \n",
       "5  ARICV  Asphalt and road oil expenditures in the indus...   \n",
       "6  ARTCB            Asphalt and road oil total consumption.   \n",
       "7  ARTCD   Asphalt and road oil average price, all sectors.   \n",
       "8  ARTCP            Asphalt and road oil total consumption.   \n",
       "9  ARTCV           Asphalt and road oil total expenditures.   \n",
       "\n",
       "                      Unit  \n",
       "0              Billion Btu  \n",
       "1         Thousand barrels  \n",
       "2              Billion Btu  \n",
       "3  Dollars per million Btu  \n",
       "4         Thousand barrels  \n",
       "5          Million dollars  \n",
       "6              Billion Btu  \n",
       "7  Dollars per million Btu  \n",
       "8         Thousand barrels  \n",
       "9          Million dollars  "
      ]
     },
     "execution_count": 5,
     "metadata": {},
     "output_type": "execute_result"
    }
   ],
   "source": [
    "msncodes.head(10)"
   ]
  },
  {
   "cell_type": "code",
   "execution_count": 22,
   "metadata": {
    "collapsed": true
   },
   "outputs": [
    {
     "data": {
      "text/plain": [
       "nan"
      ]
     },
     "execution_count": 22,
     "metadata": {},
     "output_type": "execute_result"
    }
   ],
   "source": [
    "industrial_msn = []\n",
    "oil_msn = []\n",
    "for i in range(msncodes.shape[0]):\n",
    "    if msncodes.iloc[i]['Description'].find('industrial')>=0:\n",
    "        industrial_msn.append(msncodes.iloc[i]['MSN'])\n",
    "    if msncodes.iloc[i]['Description'].find('oil')>=0:\n",
    "        oil_msn.append(msncodes.iloc[i]['MSN'])\n",
    "\n",
    "# name_list = {\"industrial\" : industrial_msn,\"oil\" : oil_msn}\n",
    "# industrial_df = pd.DataFrame(name_list)\n",
    "diversity_df = pd.concat([pd.DataFrame(industrial_msn,columns=[\"industrial\"]),\n",
    "                          pd.DataFrame(oil_msn,columns=[\"oil\"])],axis=1)"
   ]
  },
  {
   "cell_type": "code",
   "execution_count": 23,
   "metadata": {},
   "outputs": [
    {
     "data": {
      "text/html": [
       "<div>\n",
       "<style scoped>\n",
       "    .dataframe tbody tr th:only-of-type {\n",
       "        vertical-align: middle;\n",
       "    }\n",
       "\n",
       "    .dataframe tbody tr th {\n",
       "        vertical-align: top;\n",
       "    }\n",
       "\n",
       "    .dataframe thead th {\n",
       "        text-align: right;\n",
       "    }\n",
       "</style>\n",
       "<table border=\"1\" class=\"dataframe\">\n",
       "  <thead>\n",
       "    <tr style=\"text-align: right;\">\n",
       "      <th></th>\n",
       "      <th>industrial</th>\n",
       "      <th>oil</th>\n",
       "    </tr>\n",
       "  </thead>\n",
       "  <tbody>\n",
       "    <tr>\n",
       "      <th>0</th>\n",
       "      <td>ABICB</td>\n",
       "      <td>ARICB</td>\n",
       "    </tr>\n",
       "    <tr>\n",
       "      <th>1</th>\n",
       "      <td>ABICP</td>\n",
       "      <td>ARICD</td>\n",
       "    </tr>\n",
       "    <tr>\n",
       "      <th>2</th>\n",
       "      <td>ARICB</td>\n",
       "      <td>ARICP</td>\n",
       "    </tr>\n",
       "    <tr>\n",
       "      <th>3</th>\n",
       "      <td>ARICD</td>\n",
       "      <td>ARICV</td>\n",
       "    </tr>\n",
       "    <tr>\n",
       "      <th>4</th>\n",
       "      <td>ARICP</td>\n",
       "      <td>ARTCB</td>\n",
       "    </tr>\n",
       "    <tr>\n",
       "      <th>...</th>\n",
       "      <td>...</td>\n",
       "      <td>...</td>\n",
       "    </tr>\n",
       "    <tr>\n",
       "      <th>128</th>\n",
       "      <td>WWIXB</td>\n",
       "      <td>NaN</td>\n",
       "    </tr>\n",
       "    <tr>\n",
       "      <th>129</th>\n",
       "      <td>WXICB</td>\n",
       "      <td>NaN</td>\n",
       "    </tr>\n",
       "    <tr>\n",
       "      <th>130</th>\n",
       "      <td>WXICD</td>\n",
       "      <td>NaN</td>\n",
       "    </tr>\n",
       "    <tr>\n",
       "      <th>131</th>\n",
       "      <td>WXICP</td>\n",
       "      <td>NaN</td>\n",
       "    </tr>\n",
       "    <tr>\n",
       "      <th>132</th>\n",
       "      <td>WXICV</td>\n",
       "      <td>NaN</td>\n",
       "    </tr>\n",
       "  </tbody>\n",
       "</table>\n",
       "<p>133 rows × 2 columns</p>\n",
       "</div>"
      ],
      "text/plain": [
       "    industrial    oil\n",
       "0        ABICB  ARICB\n",
       "1        ABICP  ARICD\n",
       "2        ARICB  ARICP\n",
       "3        ARICD  ARICV\n",
       "4        ARICP  ARTCB\n",
       "..         ...    ...\n",
       "128      WWIXB    NaN\n",
       "129      WXICB    NaN\n",
       "130      WXICD    NaN\n",
       "131      WXICP    NaN\n",
       "132      WXICV    NaN\n",
       "\n",
       "[133 rows x 2 columns]"
      ]
     },
     "execution_count": 23,
     "metadata": {},
     "output_type": "execute_result"
    }
   ],
   "source": [
    "diversity_df"
   ]
  },
  {
   "cell_type": "code",
   "execution_count": 7,
   "metadata": {
    "scrolled": true
   },
   "outputs": [
    {
     "data": {
      "text/html": [
       "<div>\n",
       "<style scoped>\n",
       "    .dataframe tbody tr th:only-of-type {\n",
       "        vertical-align: middle;\n",
       "    }\n",
       "\n",
       "    .dataframe tbody tr th {\n",
       "        vertical-align: top;\n",
       "    }\n",
       "\n",
       "    .dataframe thead th {\n",
       "        text-align: right;\n",
       "    }\n",
       "</style>\n",
       "<table border=\"1\" class=\"dataframe\">\n",
       "  <thead>\n",
       "    <tr style=\"text-align: right;\">\n",
       "      <th></th>\n",
       "      <th>MSN</th>\n",
       "      <th>Description</th>\n",
       "      <th>Unit</th>\n",
       "    </tr>\n",
       "  </thead>\n",
       "  <tbody>\n",
       "    <tr>\n",
       "      <th>count</th>\n",
       "      <td>605</td>\n",
       "      <td>605</td>\n",
       "      <td>605</td>\n",
       "    </tr>\n",
       "    <tr>\n",
       "      <th>unique</th>\n",
       "      <td>605</td>\n",
       "      <td>481</td>\n",
       "      <td>19</td>\n",
       "    </tr>\n",
       "    <tr>\n",
       "      <th>top</th>\n",
       "      <td>TEACV</td>\n",
       "      <td>Natural gas consumed as vehicle fuel.</td>\n",
       "      <td>Billion Btu</td>\n",
       "    </tr>\n",
       "    <tr>\n",
       "      <th>freq</th>\n",
       "      <td>1</td>\n",
       "      <td>2</td>\n",
       "      <td>213</td>\n",
       "    </tr>\n",
       "  </tbody>\n",
       "</table>\n",
       "</div>"
      ],
      "text/plain": [
       "          MSN                            Description         Unit\n",
       "count     605                                    605          605\n",
       "unique    605                                    481           19\n",
       "top     TEACV  Natural gas consumed as vehicle fuel.  Billion Btu\n",
       "freq        1                                      2          213"
      ]
     },
     "execution_count": 7,
     "metadata": {},
     "output_type": "execute_result"
    }
   ],
   "source": [
    "msncodes.describe()"
   ]
  },
  {
   "cell_type": "code",
   "execution_count": 12,
   "metadata": {},
   "outputs": [],
   "source": [
    "State_name = ['CA','AZ','NM','TX']\n",
    "CA_seseds = seseds[seseds['StateCode']==State_name[0]]\n",
    "AZ_seseds = seseds[seseds['StateCode']==State_name[1]]\n",
    "NM_seseds = seseds[seseds['StateCode']==State_name[2]]\n",
    "TX_seseds = seseds[seseds['StateCode']==State_name[3]]"
   ]
  },
  {
   "cell_type": "code",
   "execution_count": 16,
   "metadata": {
    "collapsed": true
   },
   "outputs": [
    {
     "data": {
      "text/html": [
       "<div>\n",
       "<style scoped>\n",
       "    .dataframe tbody tr th:only-of-type {\n",
       "        vertical-align: middle;\n",
       "    }\n",
       "\n",
       "    .dataframe tbody tr th {\n",
       "        vertical-align: top;\n",
       "    }\n",
       "\n",
       "    .dataframe thead th {\n",
       "        text-align: right;\n",
       "    }\n",
       "</style>\n",
       "<table border=\"1\" class=\"dataframe\">\n",
       "  <thead>\n",
       "    <tr style=\"text-align: right;\">\n",
       "      <th></th>\n",
       "      <th>MSN</th>\n",
       "      <th>StateCode</th>\n",
       "      <th>Year</th>\n",
       "      <th>Data</th>\n",
       "    </tr>\n",
       "  </thead>\n",
       "  <tbody>\n",
       "    <tr>\n",
       "      <th>50</th>\n",
       "      <td>ABICB</td>\n",
       "      <td>CA</td>\n",
       "      <td>1960</td>\n",
       "      <td>0.0</td>\n",
       "    </tr>\n",
       "    <tr>\n",
       "      <th>51</th>\n",
       "      <td>ABICB</td>\n",
       "      <td>CA</td>\n",
       "      <td>1961</td>\n",
       "      <td>0.0</td>\n",
       "    </tr>\n",
       "    <tr>\n",
       "      <th>52</th>\n",
       "      <td>ABICB</td>\n",
       "      <td>CA</td>\n",
       "      <td>1962</td>\n",
       "      <td>0.0</td>\n",
       "    </tr>\n",
       "    <tr>\n",
       "      <th>53</th>\n",
       "      <td>ABICB</td>\n",
       "      <td>CA</td>\n",
       "      <td>1963</td>\n",
       "      <td>0.0</td>\n",
       "    </tr>\n",
       "    <tr>\n",
       "      <th>54</th>\n",
       "      <td>ABICB</td>\n",
       "      <td>CA</td>\n",
       "      <td>1964</td>\n",
       "      <td>0.0</td>\n",
       "    </tr>\n",
       "  </tbody>\n",
       "</table>\n",
       "</div>"
      ],
      "text/plain": [
       "      MSN StateCode  Year  Data\n",
       "50  ABICB        CA  1960   0.0\n",
       "51  ABICB        CA  1961   0.0\n",
       "52  ABICB        CA  1962   0.0\n",
       "53  ABICB        CA  1963   0.0\n",
       "54  ABICB        CA  1964   0.0"
      ]
     },
     "execution_count": 16,
     "metadata": {},
     "output_type": "execute_result"
    }
   ],
   "source": [
    "CA_seseds.head(5)"
   ]
  },
  {
   "cell_type": "code",
   "execution_count": 26,
   "metadata": {
    "collapsed": true
   },
   "outputs": [
    {
     "data": {
      "text/html": [
       "<div>\n",
       "<style scoped>\n",
       "    .dataframe tbody tr th:only-of-type {\n",
       "        vertical-align: middle;\n",
       "    }\n",
       "\n",
       "    .dataframe tbody tr th {\n",
       "        vertical-align: top;\n",
       "    }\n",
       "\n",
       "    .dataframe thead th {\n",
       "        text-align: right;\n",
       "    }\n",
       "</style>\n",
       "<table border=\"1\" class=\"dataframe\">\n",
       "  <thead>\n",
       "    <tr style=\"text-align: right;\">\n",
       "      <th></th>\n",
       "      <th>MSN</th>\n",
       "      <th>Description</th>\n",
       "      <th>Unit</th>\n",
       "    </tr>\n",
       "  </thead>\n",
       "  <tbody>\n",
       "    <tr>\n",
       "      <th>0</th>\n",
       "      <td>ABICB</td>\n",
       "      <td>Aviation gasoline blending components consumed...</td>\n",
       "      <td>Billion Btu</td>\n",
       "    </tr>\n",
       "    <tr>\n",
       "      <th>1</th>\n",
       "      <td>ABICP</td>\n",
       "      <td>Aviation gasoline blending components consumed...</td>\n",
       "      <td>Thousand barrels</td>\n",
       "    </tr>\n",
       "    <tr>\n",
       "      <th>2</th>\n",
       "      <td>ARICB</td>\n",
       "      <td>Asphalt and road oil consumed by the industria...</td>\n",
       "      <td>Billion Btu</td>\n",
       "    </tr>\n",
       "    <tr>\n",
       "      <th>3</th>\n",
       "      <td>ARICD</td>\n",
       "      <td>Asphalt and road oil price in the industrial s...</td>\n",
       "      <td>Dollars per million Btu</td>\n",
       "    </tr>\n",
       "    <tr>\n",
       "      <th>4</th>\n",
       "      <td>ARICP</td>\n",
       "      <td>Asphalt and road oil consumed by the industria...</td>\n",
       "      <td>Thousand barrels</td>\n",
       "    </tr>\n",
       "  </tbody>\n",
       "</table>\n",
       "</div>"
      ],
      "text/plain": [
       "     MSN                                        Description  \\\n",
       "0  ABICB  Aviation gasoline blending components consumed...   \n",
       "1  ABICP  Aviation gasoline blending components consumed...   \n",
       "2  ARICB  Asphalt and road oil consumed by the industria...   \n",
       "3  ARICD  Asphalt and road oil price in the industrial s...   \n",
       "4  ARICP  Asphalt and road oil consumed by the industria...   \n",
       "\n",
       "                      Unit  \n",
       "0              Billion Btu  \n",
       "1         Thousand barrels  \n",
       "2              Billion Btu  \n",
       "3  Dollars per million Btu  \n",
       "4         Thousand barrels  "
      ]
     },
     "execution_count": 26,
     "metadata": {},
     "output_type": "execute_result"
    }
   ],
   "source": [
    "msncodes.head(5)"
   ]
  },
  {
   "cell_type": "code",
   "execution_count": 29,
   "metadata": {},
   "outputs": [],
   "source": [
    "msn_label = msncodes['MSN']"
   ]
  },
  {
   "cell_type": "code",
   "execution_count": 32,
   "metadata": {
    "scrolled": true
   },
   "outputs": [
    {
     "data": {
      "text/plain": [
       "pandas.core.series.Series"
      ]
     },
     "execution_count": 32,
     "metadata": {},
     "output_type": "execute_result"
    }
   ],
   "source": [
    "type(msn_label)"
   ]
  },
  {
   "cell_type": "markdown",
   "metadata": {},
   "source": [
    "## Method to find 605 types of energy produce and consume amount of CA state"
   ]
  },
  {
   "cell_type": "code",
   "execution_count": 117,
   "metadata": {},
   "outputs": [],
   "source": [
    "CA_prod_df = pd.DataFrame(columns=['MSN', 'Prod_Data'])\n",
    "CA_cons_df = pd.DataFrame(columns=['MSN', 'Cons_Data'])\n",
    "# CA's distribution in energy\n",
    "for i in range(605):\n",
    "    current_label = msn_label[i]\n",
    "#     find current energy type's all samples\n",
    "    current_CA = CA_seseds[CA_seseds['MSN']==current_label]\n",
    "#     CA energy produce amount\n",
    "    prod_CA = current_CA[current_CA['Data'] > 0]\n",
    "    Cons_CA = current_CA[current_CA['Data'] < 0]\n",
    "    CA_prod_df.loc[i] = dict(MSN=current_label, Prod_Data=prod_CA['Data'].sum())\n",
    "    CA_cons_df.loc[i] = dict(MSN=current_label, Cons_Data=Cons_CA['Data'].sum())\n"
   ]
  },
  {
   "cell_type": "code",
   "execution_count": 118,
   "metadata": {
    "scrolled": true
   },
   "outputs": [],
   "source": [
    "CA_prod_df = CA_prod_df.sort_values(by='Prod_Data', ascending = False)\n",
    "CA_cons_df = CA_cons_df.sort_values(by='Cons_Data', ascending = True)"
   ]
  },
  {
   "cell_type": "code",
   "execution_count": 119,
   "metadata": {},
   "outputs": [
    {
     "data": {
      "image/png": "[encoded data removed]",
      "text/plain": [
       "<Figure size 432x288 with 1 Axes>"
      ]
     },
     "metadata": {},
     "output_type": "display_data"
    }
   ],
   "source": [
    "neg_CA_cons_df = CA_cons_df[CA_cons_df['Cons_Data'] < 0]\n",
    "label = []\n",
    "for i in range(5):\n",
    "    label.append(neg_CA_cons_df.iloc[i]['MSN'])\n",
    "label.append('other energy')\n",
    "\n",
    "other_energy = abs(neg_CA_cons_df.iloc[5:len(neg_CA_cons_df)]['Cons_Data'].sum())\n",
    "first_five = abs(neg_CA_cons_df.iloc[0:5]['Cons_Data']).values\n",
    "pie_data = np.append(first_five,other_energy)\n",
    "explodes = np.zeros(len(pie_data))\n",
    "explodes[0] = 0.05\n",
    "colors = ['#81ecec','#ff7675','#6c5ce7','#2f7675','#4f7675','#6f7675']\n",
    "\n",
    "plt.pie(pie_data,explode=explodes,colors=colors,labels=label)\n",
    "plt.title('CA energy consume piechart')\n",
    "plt.show()"
   ]
  },
  {
   "cell_type": "code",
   "execution_count": 120,
   "metadata": {},
   "outputs": [],
   "source": [
    "AZ_prod_df = pd.DataFrame(columns=['MSN', 'Prod_Data'])\n",
    "AZ_cons_df = pd.DataFrame(columns=['MSN', 'Cons_Data'])\n",
    "# CA's distribution in energy\n",
    "for i in range(605):\n",
    "    current_label = msn_label[i]\n",
    "#     find current energy type's all samples\n",
    "    current_AZ = AZ_seseds[AZ_seseds['MSN']==current_label]\n",
    "#     CA energy produce amount\n",
    "    prod_AZ = current_AZ[current_AZ['Data'] > 0]\n",
    "    Cons_AZ = current_AZ[current_AZ['Data'] < 0]\n",
    "    AZ_prod_df.loc[i] = dict(MSN=current_label, Prod_Data=prod_AZ['Data'].sum())\n",
    "    AZ_cons_df.loc[i] = dict(MSN=current_label, Cons_Data=Cons_AZ['Data'].sum())\n",
    "\n",
    "AZ_prod_df = AZ_prod_df.sort_values(by='Prod_Data', ascending = False)\n",
    "AZ_cons_df = AZ_cons_df.sort_values(by='Cons_Data', ascending = True)"
   ]
  },
  {
   "cell_type": "code",
   "execution_count": 121,
   "metadata": {},
   "outputs": [
    {
     "data": {
      "image/png": "[encoded data removed]",
      "text/plain": [
       "<Figure size 432x288 with 1 Axes>"
      ]
     },
     "metadata": {},
     "output_type": "display_data"
    }
   ],
   "source": [
    "neg_AZ_cons_df = AZ_cons_df[AZ_cons_df['Cons_Data'] < 0]\n",
    "label = []\n",
    "for i in range(5):\n",
    "    label.append(neg_AZ_cons_df.iloc[i]['MSN'])\n",
    "label.append('other energy')\n",
    "\n",
    "other_energy = abs(neg_AZ_cons_df.iloc[5:len(neg_AZ_cons_df)]['Cons_Data'].sum())\n",
    "first_five = abs(neg_AZ_cons_df.iloc[0:5]['Cons_Data']).values\n",
    "pie_data = np.append(first_five,other_energy)\n",
    "explodes = np.zeros(len(pie_data))\n",
    "explodes[0] = 0.05\n",
    "colors = ['#81ecec','#ff7675','#6c5ce7','#2f7675','#4f7675','#6f7675']\n",
    "\n",
    "plt.pie(pie_data,explode=explodes,colors=colors,labels=label)\n",
    "plt.title('AZ energy consume piechart')\n",
    "plt.show()"
   ]
  },
  {
   "cell_type": "code",
   "execution_count": 122,
   "metadata": {
    "scrolled": true
   },
   "outputs": [
    {
     "data": {
      "text/html": [
       "<div>\n",
       "<style scoped>\n",
       "    .dataframe tbody tr th:only-of-type {\n",
       "        vertical-align: middle;\n",
       "    }\n",
       "\n",
       "    .dataframe tbody tr th {\n",
       "        vertical-align: top;\n",
       "    }\n",
       "\n",
       "    .dataframe thead th {\n",
       "        text-align: right;\n",
       "    }\n",
       "</style>\n",
       "<table border=\"1\" class=\"dataframe\">\n",
       "  <thead>\n",
       "    <tr style=\"text-align: right;\">\n",
       "      <th></th>\n",
       "      <th>MSN</th>\n",
       "      <th>Cons_Data</th>\n",
       "    </tr>\n",
       "  </thead>\n",
       "  <tbody>\n",
       "    <tr>\n",
       "      <th>129</th>\n",
       "      <td>ELISB</td>\n",
       "      <td>-6.112650e+06</td>\n",
       "    </tr>\n",
       "    <tr>\n",
       "      <th>130</th>\n",
       "      <td>ELNIB</td>\n",
       "      <td>-5.478497e+03</td>\n",
       "    </tr>\n",
       "    <tr>\n",
       "      <th>131</th>\n",
       "      <td>ELNIP</td>\n",
       "      <td>-1.605655e+03</td>\n",
       "    </tr>\n",
       "    <tr>\n",
       "      <th>563</th>\n",
       "      <td>UOICB</td>\n",
       "      <td>-1.241821e+03</td>\n",
       "    </tr>\n",
       "    <tr>\n",
       "      <th>564</th>\n",
       "      <td>UOICP</td>\n",
       "      <td>-2.131882e+02</td>\n",
       "    </tr>\n",
       "    <tr>\n",
       "      <th>299</th>\n",
       "      <td>MBICB</td>\n",
       "      <td>-1.621030e+02</td>\n",
       "    </tr>\n",
       "    <tr>\n",
       "      <th>300</th>\n",
       "      <td>MBICP</td>\n",
       "      <td>-3.085912e+01</td>\n",
       "    </tr>\n",
       "    <tr>\n",
       "      <th>98</th>\n",
       "      <td>DFEIV</td>\n",
       "      <td>-5.900700e-01</td>\n",
       "    </tr>\n",
       "    <tr>\n",
       "      <th>0</th>\n",
       "      <td>ABICB</td>\n",
       "      <td>-5.396000e-02</td>\n",
       "    </tr>\n",
       "    <tr>\n",
       "      <th>1</th>\n",
       "      <td>ABICP</td>\n",
       "      <td>-1.069000e-02</td>\n",
       "    </tr>\n",
       "  </tbody>\n",
       "</table>\n",
       "</div>"
      ],
      "text/plain": [
       "       MSN     Cons_Data\n",
       "129  ELISB -6.112650e+06\n",
       "130  ELNIB -5.478497e+03\n",
       "131  ELNIP -1.605655e+03\n",
       "563  UOICB -1.241821e+03\n",
       "564  UOICP -2.131882e+02\n",
       "299  MBICB -1.621030e+02\n",
       "300  MBICP -3.085912e+01\n",
       "98   DFEIV -5.900700e-01\n",
       "0    ABICB -5.396000e-02\n",
       "1    ABICP -1.069000e-02"
      ]
     },
     "execution_count": 122,
     "metadata": {},
     "output_type": "execute_result"
    }
   ],
   "source": [
    "neg_AZ_cons_df"
   ]
  },
  {
   "cell_type": "code",
   "execution_count": null,
   "metadata": {},
   "outputs": [],
   "source": []
  }
 ],
 "metadata": {
  "kernelspec": {
   "display_name": "Python 3",
   "language": "python",
   "name": "python3"
  },
  "language_info": {
   "codemirror_mode": {
    "name": "ipython",
    "version": 3
   },
   "file_extension": ".py",
   "mimetype": "text/x-python",
   "name": "python",
   "nbconvert_exporter": "python",
   "pygments_lexer": "ipython3",
   "version": "3.8.3"
  }
 },
 "nbformat": 4,
 "nbformat_minor": 4
}
